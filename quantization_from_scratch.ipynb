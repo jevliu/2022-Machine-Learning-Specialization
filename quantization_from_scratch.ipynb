{
  "nbformat": 4,
  "nbformat_minor": 0,
  "metadata": {
    "colab": {
      "provenance": [],
      "authorship_tag": "ABX9TyM+pWqcoYY2uoKylGJUgL1r",
      "include_colab_link": true
    },
    "kernelspec": {
      "name": "python3",
      "display_name": "Python 3"
    },
    "language_info": {
      "name": "python"
    }
  },
  "cells": [
    {
      "cell_type": "markdown",
      "metadata": {
        "id": "view-in-github",
        "colab_type": "text"
      },
      "source": [
        "<a href=\"https://colab.research.google.com/github/jevliu/2022-Machine-Learning-Specialization/blob/main/quantization_from_scratch.ipynb\" target=\"_parent\"><img src=\"https://colab.research.google.com/assets/colab-badge.svg\" alt=\"Open In Colab\"/></a>"
      ]
    },
    {
      "cell_type": "code",
      "execution_count": 1,
      "metadata": {
        "id": "PPmBJYhw4sA7"
      },
      "outputs": [],
      "source": [
        "import numpy as np"
      ]
    },
    {
      "cell_type": "code",
      "source": [
        "from os import terminal_size\n",
        "# suppres scitntific notation\n",
        "np.set_printoptions(suppress=True)"
      ],
      "metadata": {
        "id": "cNZPPo8u49D7"
      },
      "execution_count": 2,
      "outputs": []
    },
    {
      "cell_type": "code",
      "source": [
        "# generate random distributed parameters\n",
        "params = np.random.uniform(low=-50, high=150, size=20)\n",
        "\n",
        "# make sure importment values are at the begining for better debugging\n",
        "params[0] = params.max() + 1\n",
        "params[1] = params.min() - 1\n",
        "params[2] = 0\n",
        "\n",
        "# round each number to the second decimal place\n",
        "params = np.round(params, 2)\n",
        "\n",
        "# print the parameters\n",
        "print(params)"
      ],
      "metadata": {
        "colab": {
          "base_uri": "https://localhost:8080/"
        },
        "id": "HVIdOVth5VpR",
        "outputId": "6a7503dc-a5d4-41f4-dc45-ceb6e8342028"
      },
      "execution_count": 5,
      "outputs": [
        {
          "output_type": "stream",
          "name": "stdout",
          "text": [
            "[149.28 -17.66   0.    61.84  -0.25 134.6  148.28  68.34  74.51  51.24\n",
            "  43.13 140.25 142.08 114.53 -16.66  81.33 135.17  -8.6  112.6  103.86]\n"
          ]
        }
      ]
    },
    {
      "cell_type": "code",
      "source": [
        "# define several function for quantization and dequantize according to the\n",
        "# mathmetical formular\n",
        "def clamp(param_q:np.array, lower_bound:int, upper_bound:int)->np.array:\n",
        "  param_q[param_q < lower_bound] = lower_bound\n",
        "  param_q[param_q > upper_bound] = upper_bound\n",
        "  return param_q\n",
        "\n",
        "def asymmetric_quantization(params:np.array,bits:int)->tuple[np.array,float,int]:\n",
        "  # calulate the scale and zero point\n",
        "  alpha = np.max(params)\n",
        "  beta = np.min(params)\n",
        "  scale = (alpha-beta) / (2**bits-1)\n",
        "  zero = -1*np.round(beta/scale)\n",
        "  # unsigned integer\n",
        "  lower_bound, upper_bound = 0, 2**bits-1\n",
        "  # quantize the parameters\n",
        "  quantized = clamp(np.round(params/scale+zero),lower_bound,upper_bound).astype(np.int32)\n",
        "  return quantized,scale,zero\n",
        "\n",
        "def symmetric_quantization(params:np.array,bits:int)->tuple[np.array,float]:\n",
        "  # calculate the scale\n",
        "  alpha = np.max(np.abs(params))\n",
        "  scale = alpha / (2**(bits-1)-1)\n",
        "  lower_bound,upper_bound = -1*(2**(bits-1)),2**(bits-1)-1\n",
        "  quantized = clamp(np.round(params/scale),lower_bound,upper_bound).astype(np.int32)\n",
        "  return quantized,scale\n",
        "\n",
        "def asymmetric_dequantize(params:np.array,scale:float,zero:int)->np.array:\n",
        "  return scale * (params-zero)\n",
        "\n",
        "def symmetric_dequantize(params:np.array,scale:float)->np.array:\n",
        "  return scale * params\n",
        "\n",
        "def quantization_error(params:np.array, params_q:np.array):\n",
        "  # calculate the MSE\n",
        "  return np.mean((params-params_q)**2)\n"
      ],
      "metadata": {
        "id": "8vYRnUBu6bDm"
      },
      "execution_count": 21,
      "outputs": []
    },
    {
      "cell_type": "code",
      "source": [
        "(asymmetric_q, asymmetric_s, asymmetric_z) = asymmetric_quantization(params, 8)\n",
        "(symmetric_q, symmetric_s) = symmetric_quantization(params, 8)\n",
        "as_deq_params = asymmetric_dequantize(asymmetric_q, asymmetric_s, asymmetric_z)\n",
        "sy_deq_params = symmetric_dequantize(symmetric_q, symmetric_s)\n",
        "\n",
        "print('original parameters:\\n',np.round(params,2))\n",
        "print('parameters after asymmetric quantitation:\\n',np.round(asymmetric_q))\n",
        "print(f'asymmetric_scale: {np.round(asymmetric_s,2)}, asymmetric_zero: {asymmetric_z.round(2)}')\n",
        "print('parameters after symmetric quantitation:\\n',np.round(symmetric_q))\n",
        "print(f'symmetric_scale: {symmetric_s.round(2)}')\n",
        "print(f'quantitation error with asymmetric: {quantization_error(params,as_deq_params).round(2)}')\n",
        "print(f'quantitation error with symmetric: {quantization_error(params,sy_deq_params).round(2)}')"
      ],
      "metadata": {
        "colab": {
          "base_uri": "https://localhost:8080/"
        },
        "id": "yrKCKkiKAh_H",
        "outputId": "a0625458-2e70-428b-fafd-10fa2b07bac8"
      },
      "execution_count": 22,
      "outputs": [
        {
          "output_type": "stream",
          "name": "stdout",
          "text": [
            "original parameters:\n",
            " [149.28 -17.66   0.    61.84  -0.25 134.6  148.28  68.34  74.51  51.24\n",
            "  43.13 140.25 142.08 114.53 -16.66  81.33 135.17  -8.6  112.6  103.86]\n",
            "parameters after asymmetric quantitation:\n",
            " [255   0  27 121  27 233 253 131 141 105  93 241 244 202   2 151 233  14\n",
            " 199 186]\n",
            "asymmetric_scale: 0.65, asymmetric_zero: 27.0\n",
            "parameters after symmetric quantitation:\n",
            " [127 -15   0  53   0 115 126  58  63  44  37 119 121  97 -14  69 115  -7\n",
            "  96  88]\n",
            "symmetric_scale: 1.18\n",
            "quantitation error with asymmetric: 0.04\n",
            "quantitation error with symmetric: 0.11\n"
          ]
        }
      ]
    },
    {
      "cell_type": "markdown",
      "source": [
        "## Quantization range:how to choose alpha&beta\n",
        "\n",
        "### Quantization strategy\n",
        "\n",
        "**Min-Max:** sensitive to outlier numbers\n",
        "\n",
        "**Percntile:** only the outlier has big error\n",
        "\n",
        "**Mean-Square-Error:**It is usually solved using Grid-Search\n",
        "\n",
        "**Cross-Entropy:**used when the values in the tensor being quantized are not equally importan.\n",
        "to keep the order in the softmax layer\n",
        "\n",
        "### Quantization granularity"
      ],
      "metadata": {
        "id": "xz9jBzreNGxe"
      }
    },
    {
      "cell_type": "markdown",
      "source": [
        "## Post Tranining Quantization (PTQ)\n",
        "\n",
        "### PTQ process:\n",
        "\n",
        "pre-trained model --> attatch observers(calculate the s and z parameter using the observed data) --> calibrate --> quantized model"
      ],
      "metadata": {
        "id": "1MJzto8uQfyB"
      }
    },
    {
      "cell_type": "code",
      "source": [
        "import torch\n",
        "import torchvision.datasets as datasets\n",
        "import torchvision.transforms as transforms\n",
        "import torch.nn as nn\n",
        "import matplotlib.pyplot as plt\n",
        "from tqdm import tqdm\n",
        "import os"
      ],
      "metadata": {
        "id": "Iq5KXmHAQlrx"
      },
      "execution_count": 25,
      "outputs": []
    },
    {
      "cell_type": "markdown",
      "source": [
        "#### Load the MNIST dataset"
      ],
      "metadata": {
        "id": "05ketPzoRzfq"
      }
    },
    {
      "cell_type": "code",
      "source": [],
      "metadata": {
        "id": "b7iqOpz4RTVy"
      },
      "execution_count": null,
      "outputs": []
    }
  ]
}